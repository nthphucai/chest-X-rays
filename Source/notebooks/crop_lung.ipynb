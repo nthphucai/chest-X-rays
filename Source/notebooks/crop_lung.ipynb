{
 "cells": [
  {
   "cell_type": "code",
   "execution_count": 1,
   "metadata": {},
   "outputs": [],
   "source": [
    "import os \n",
    "import pandas as pd \n",
    "import numpy as np \n",
    "import cv2"
   ]
  },
  {
   "cell_type": "code",
   "execution_count": 2,
   "metadata": {},
   "outputs": [
    {
     "data": {
      "text/html": [
       "<div>\n",
       "<style scoped>\n",
       "    .dataframe tbody tr th:only-of-type {\n",
       "        vertical-align: middle;\n",
       "    }\n",
       "\n",
       "    .dataframe tbody tr th {\n",
       "        vertical-align: top;\n",
       "    }\n",
       "\n",
       "    .dataframe thead th {\n",
       "        text-align: right;\n",
       "    }\n",
       "</style>\n",
       "<table border=\"1\" class=\"dataframe\">\n",
       "  <thead>\n",
       "    <tr style=\"text-align: right;\">\n",
       "      <th></th>\n",
       "      <th>image_ids</th>\n",
       "      <th>class_name</th>\n",
       "      <th>Aortic enlargement</th>\n",
       "      <th>Atelectasis</th>\n",
       "      <th>Calcification</th>\n",
       "      <th>Cardiomegaly</th>\n",
       "      <th>Consolidation</th>\n",
       "      <th>ILD</th>\n",
       "      <th>Infiltration</th>\n",
       "      <th>Lung Opacity</th>\n",
       "      <th>Nodule Mass</th>\n",
       "      <th>Other lesion</th>\n",
       "      <th>Pleural effusion</th>\n",
       "      <th>Pleural thickening</th>\n",
       "      <th>Pneumothorax</th>\n",
       "      <th>Pulmonary fibrosis</th>\n",
       "      <th>image_paths</th>\n",
       "    </tr>\n",
       "  </thead>\n",
       "  <tbody>\n",
       "    <tr>\n",
       "      <th>0</th>\n",
       "      <td>a259009c4eeacf9ccf4f8db4bf3e7714</td>\n",
       "      <td>['No finding' 'No finding' 'No finding']</td>\n",
       "      <td>0.0</td>\n",
       "      <td>0.0</td>\n",
       "      <td>0.0</td>\n",
       "      <td>0.0</td>\n",
       "      <td>0.0</td>\n",
       "      <td>0.0</td>\n",
       "      <td>0.0</td>\n",
       "      <td>0.0</td>\n",
       "      <td>0.0</td>\n",
       "      <td>0.0</td>\n",
       "      <td>0.0</td>\n",
       "      <td>0.0</td>\n",
       "      <td>0.0</td>\n",
       "      <td>0.0</td>\n",
       "      <td>/Users/HPhuc/Practice/12. classification/vinbi...</td>\n",
       "    </tr>\n",
       "    <tr>\n",
       "      <th>1</th>\n",
       "      <td>ac2a615b3861212f9a2ada6acd077fd9</td>\n",
       "      <td>['Aortic enlargement' 'Pleural thickening' 'Pl...</td>\n",
       "      <td>1.0</td>\n",
       "      <td>0.0</td>\n",
       "      <td>0.0</td>\n",
       "      <td>1.0</td>\n",
       "      <td>0.0</td>\n",
       "      <td>0.0</td>\n",
       "      <td>1.0</td>\n",
       "      <td>1.0</td>\n",
       "      <td>0.0</td>\n",
       "      <td>0.0</td>\n",
       "      <td>0.0</td>\n",
       "      <td>1.0</td>\n",
       "      <td>0.0</td>\n",
       "      <td>0.0</td>\n",
       "      <td>/Users/HPhuc/Practice/12. classification/vinbi...</td>\n",
       "    </tr>\n",
       "    <tr>\n",
       "      <th>2</th>\n",
       "      <td>211fb0b1fae0691e21159bcff77672a7</td>\n",
       "      <td>['No finding' 'No finding' 'No finding']</td>\n",
       "      <td>0.0</td>\n",
       "      <td>0.0</td>\n",
       "      <td>0.0</td>\n",
       "      <td>0.0</td>\n",
       "      <td>0.0</td>\n",
       "      <td>0.0</td>\n",
       "      <td>0.0</td>\n",
       "      <td>0.0</td>\n",
       "      <td>0.0</td>\n",
       "      <td>0.0</td>\n",
       "      <td>0.0</td>\n",
       "      <td>0.0</td>\n",
       "      <td>0.0</td>\n",
       "      <td>0.0</td>\n",
       "      <td>/Users/HPhuc/Practice/12. classification/vinbi...</td>\n",
       "    </tr>\n",
       "    <tr>\n",
       "      <th>3</th>\n",
       "      <td>003cfe5ce5c0ec5163138eb3b740e328</td>\n",
       "      <td>['No finding' 'No finding' 'No finding']</td>\n",
       "      <td>0.0</td>\n",
       "      <td>0.0</td>\n",
       "      <td>0.0</td>\n",
       "      <td>0.0</td>\n",
       "      <td>0.0</td>\n",
       "      <td>0.0</td>\n",
       "      <td>0.0</td>\n",
       "      <td>0.0</td>\n",
       "      <td>0.0</td>\n",
       "      <td>0.0</td>\n",
       "      <td>0.0</td>\n",
       "      <td>0.0</td>\n",
       "      <td>0.0</td>\n",
       "      <td>0.0</td>\n",
       "      <td>/Users/HPhuc/Practice/12. classification/vinbi...</td>\n",
       "    </tr>\n",
       "    <tr>\n",
       "      <th>4</th>\n",
       "      <td>3fb2fa3cceb68338ecf497cb3a2a318d</td>\n",
       "      <td>['No finding' 'No finding' 'No finding']</td>\n",
       "      <td>0.0</td>\n",
       "      <td>0.0</td>\n",
       "      <td>0.0</td>\n",
       "      <td>0.0</td>\n",
       "      <td>0.0</td>\n",
       "      <td>0.0</td>\n",
       "      <td>0.0</td>\n",
       "      <td>0.0</td>\n",
       "      <td>0.0</td>\n",
       "      <td>0.0</td>\n",
       "      <td>0.0</td>\n",
       "      <td>0.0</td>\n",
       "      <td>0.0</td>\n",
       "      <td>0.0</td>\n",
       "      <td>/Users/HPhuc/Practice/12. classification/vinbi...</td>\n",
       "    </tr>\n",
       "    <tr>\n",
       "      <th>...</th>\n",
       "      <td>...</td>\n",
       "      <td>...</td>\n",
       "      <td>...</td>\n",
       "      <td>...</td>\n",
       "      <td>...</td>\n",
       "      <td>...</td>\n",
       "      <td>...</td>\n",
       "      <td>...</td>\n",
       "      <td>...</td>\n",
       "      <td>...</td>\n",
       "      <td>...</td>\n",
       "      <td>...</td>\n",
       "      <td>...</td>\n",
       "      <td>...</td>\n",
       "      <td>...</td>\n",
       "      <td>...</td>\n",
       "      <td>...</td>\n",
       "    </tr>\n",
       "    <tr>\n",
       "      <th>95</th>\n",
       "      <td>0fa3a43de5d5204d9be82a1969c1b6c8</td>\n",
       "      <td>['No finding' 'No finding' 'No finding']</td>\n",
       "      <td>0.0</td>\n",
       "      <td>0.0</td>\n",
       "      <td>0.0</td>\n",
       "      <td>0.0</td>\n",
       "      <td>0.0</td>\n",
       "      <td>0.0</td>\n",
       "      <td>0.0</td>\n",
       "      <td>0.0</td>\n",
       "      <td>0.0</td>\n",
       "      <td>0.0</td>\n",
       "      <td>0.0</td>\n",
       "      <td>0.0</td>\n",
       "      <td>0.0</td>\n",
       "      <td>0.0</td>\n",
       "      <td>/Users/HPhuc/Practice/12. classification/vinbi...</td>\n",
       "    </tr>\n",
       "    <tr>\n",
       "      <th>96</th>\n",
       "      <td>d69c970d9c790b8813f5b0d0964e6a55</td>\n",
       "      <td>['No finding' 'No finding' 'No finding']</td>\n",
       "      <td>0.0</td>\n",
       "      <td>0.0</td>\n",
       "      <td>0.0</td>\n",
       "      <td>0.0</td>\n",
       "      <td>0.0</td>\n",
       "      <td>0.0</td>\n",
       "      <td>0.0</td>\n",
       "      <td>0.0</td>\n",
       "      <td>0.0</td>\n",
       "      <td>0.0</td>\n",
       "      <td>0.0</td>\n",
       "      <td>0.0</td>\n",
       "      <td>0.0</td>\n",
       "      <td>0.0</td>\n",
       "      <td>/Users/HPhuc/Practice/12. classification/vinbi...</td>\n",
       "    </tr>\n",
       "    <tr>\n",
       "      <th>97</th>\n",
       "      <td>a0af7d64eecad23a41730cef8dbf2f11</td>\n",
       "      <td>['No finding' 'No finding' 'No finding']</td>\n",
       "      <td>0.0</td>\n",
       "      <td>0.0</td>\n",
       "      <td>0.0</td>\n",
       "      <td>0.0</td>\n",
       "      <td>0.0</td>\n",
       "      <td>0.0</td>\n",
       "      <td>0.0</td>\n",
       "      <td>0.0</td>\n",
       "      <td>0.0</td>\n",
       "      <td>0.0</td>\n",
       "      <td>0.0</td>\n",
       "      <td>0.0</td>\n",
       "      <td>0.0</td>\n",
       "      <td>0.0</td>\n",
       "      <td>/Users/HPhuc/Practice/12. classification/vinbi...</td>\n",
       "    </tr>\n",
       "    <tr>\n",
       "      <th>98</th>\n",
       "      <td>fb40ca51c74b4be05cc855629211b406</td>\n",
       "      <td>['No finding' 'No finding' 'No finding']</td>\n",
       "      <td>0.0</td>\n",
       "      <td>0.0</td>\n",
       "      <td>0.0</td>\n",
       "      <td>0.0</td>\n",
       "      <td>0.0</td>\n",
       "      <td>0.0</td>\n",
       "      <td>0.0</td>\n",
       "      <td>0.0</td>\n",
       "      <td>0.0</td>\n",
       "      <td>0.0</td>\n",
       "      <td>0.0</td>\n",
       "      <td>0.0</td>\n",
       "      <td>0.0</td>\n",
       "      <td>0.0</td>\n",
       "      <td>/Users/HPhuc/Practice/12. classification/vinbi...</td>\n",
       "    </tr>\n",
       "    <tr>\n",
       "      <th>99</th>\n",
       "      <td>c9385d43de0481706fe6084ace25dbbf</td>\n",
       "      <td>['No finding' 'No finding' 'No finding']</td>\n",
       "      <td>0.0</td>\n",
       "      <td>0.0</td>\n",
       "      <td>0.0</td>\n",
       "      <td>0.0</td>\n",
       "      <td>0.0</td>\n",
       "      <td>0.0</td>\n",
       "      <td>0.0</td>\n",
       "      <td>0.0</td>\n",
       "      <td>0.0</td>\n",
       "      <td>0.0</td>\n",
       "      <td>0.0</td>\n",
       "      <td>0.0</td>\n",
       "      <td>0.0</td>\n",
       "      <td>0.0</td>\n",
       "      <td>/Users/HPhuc/Practice/12. classification/vinbi...</td>\n",
       "    </tr>\n",
       "  </tbody>\n",
       "</table>\n",
       "<p>100 rows × 17 columns</p>\n",
       "</div>"
      ],
      "text/plain": [
       "                           image_ids  \\\n",
       "0   a259009c4eeacf9ccf4f8db4bf3e7714   \n",
       "1   ac2a615b3861212f9a2ada6acd077fd9   \n",
       "2   211fb0b1fae0691e21159bcff77672a7   \n",
       "3   003cfe5ce5c0ec5163138eb3b740e328   \n",
       "4   3fb2fa3cceb68338ecf497cb3a2a318d   \n",
       "..                               ...   \n",
       "95  0fa3a43de5d5204d9be82a1969c1b6c8   \n",
       "96  d69c970d9c790b8813f5b0d0964e6a55   \n",
       "97  a0af7d64eecad23a41730cef8dbf2f11   \n",
       "98  fb40ca51c74b4be05cc855629211b406   \n",
       "99  c9385d43de0481706fe6084ace25dbbf   \n",
       "\n",
       "                                           class_name  Aortic enlargement  \\\n",
       "0            ['No finding' 'No finding' 'No finding']                 0.0   \n",
       "1   ['Aortic enlargement' 'Pleural thickening' 'Pl...                 1.0   \n",
       "2            ['No finding' 'No finding' 'No finding']                 0.0   \n",
       "3            ['No finding' 'No finding' 'No finding']                 0.0   \n",
       "4            ['No finding' 'No finding' 'No finding']                 0.0   \n",
       "..                                                ...                 ...   \n",
       "95           ['No finding' 'No finding' 'No finding']                 0.0   \n",
       "96           ['No finding' 'No finding' 'No finding']                 0.0   \n",
       "97           ['No finding' 'No finding' 'No finding']                 0.0   \n",
       "98           ['No finding' 'No finding' 'No finding']                 0.0   \n",
       "99           ['No finding' 'No finding' 'No finding']                 0.0   \n",
       "\n",
       "    Atelectasis  Calcification  Cardiomegaly  Consolidation  ILD  \\\n",
       "0           0.0            0.0           0.0            0.0  0.0   \n",
       "1           0.0            0.0           1.0            0.0  0.0   \n",
       "2           0.0            0.0           0.0            0.0  0.0   \n",
       "3           0.0            0.0           0.0            0.0  0.0   \n",
       "4           0.0            0.0           0.0            0.0  0.0   \n",
       "..          ...            ...           ...            ...  ...   \n",
       "95          0.0            0.0           0.0            0.0  0.0   \n",
       "96          0.0            0.0           0.0            0.0  0.0   \n",
       "97          0.0            0.0           0.0            0.0  0.0   \n",
       "98          0.0            0.0           0.0            0.0  0.0   \n",
       "99          0.0            0.0           0.0            0.0  0.0   \n",
       "\n",
       "    Infiltration  Lung Opacity  Nodule Mass  Other lesion  Pleural effusion  \\\n",
       "0            0.0           0.0          0.0           0.0               0.0   \n",
       "1            1.0           1.0          0.0           0.0               0.0   \n",
       "2            0.0           0.0          0.0           0.0               0.0   \n",
       "3            0.0           0.0          0.0           0.0               0.0   \n",
       "4            0.0           0.0          0.0           0.0               0.0   \n",
       "..           ...           ...          ...           ...               ...   \n",
       "95           0.0           0.0          0.0           0.0               0.0   \n",
       "96           0.0           0.0          0.0           0.0               0.0   \n",
       "97           0.0           0.0          0.0           0.0               0.0   \n",
       "98           0.0           0.0          0.0           0.0               0.0   \n",
       "99           0.0           0.0          0.0           0.0               0.0   \n",
       "\n",
       "    Pleural thickening  Pneumothorax  Pulmonary fibrosis  \\\n",
       "0                  0.0           0.0                 0.0   \n",
       "1                  1.0           0.0                 0.0   \n",
       "2                  0.0           0.0                 0.0   \n",
       "3                  0.0           0.0                 0.0   \n",
       "4                  0.0           0.0                 0.0   \n",
       "..                 ...           ...                 ...   \n",
       "95                 0.0           0.0                 0.0   \n",
       "96                 0.0           0.0                 0.0   \n",
       "97                 0.0           0.0                 0.0   \n",
       "98                 0.0           0.0                 0.0   \n",
       "99                 0.0           0.0                 0.0   \n",
       "\n",
       "                                          image_paths  \n",
       "0   /Users/HPhuc/Practice/12. classification/vinbi...  \n",
       "1   /Users/HPhuc/Practice/12. classification/vinbi...  \n",
       "2   /Users/HPhuc/Practice/12. classification/vinbi...  \n",
       "3   /Users/HPhuc/Practice/12. classification/vinbi...  \n",
       "4   /Users/HPhuc/Practice/12. classification/vinbi...  \n",
       "..                                                ...  \n",
       "95  /Users/HPhuc/Practice/12. classification/vinbi...  \n",
       "96  /Users/HPhuc/Practice/12. classification/vinbi...  \n",
       "97  /Users/HPhuc/Practice/12. classification/vinbi...  \n",
       "98  /Users/HPhuc/Practice/12. classification/vinbi...  \n",
       "99  /Users/HPhuc/Practice/12. classification/vinbi...  \n",
       "\n",
       "[100 rows x 17 columns]"
      ]
     },
     "execution_count": 2,
     "metadata": {},
     "output_type": "execute_result"
    }
   ],
   "source": [
    "data = pd.read_csv('/Users/HPhuc/Practice/12. classification/vinbigdata/output/csv/data_train.csv', index_col=0)\n",
    "data "
   ]
  },
  {
   "cell_type": "code",
   "execution_count": 3,
   "metadata": {},
   "outputs": [],
   "source": [
    "import os \n",
    "import cv2\n",
    "from keras.models import load_model\n",
    "\n",
    "IMG_W = 1024\n",
    "IMG_H = 1024\n",
    "IMG_C = 3\n",
    "\n",
    "unet_path = '/Users/HPhuc/Practice/12. classification/vinbigdata/output/best_model.h5'\n",
    "img_path = '/Users/HPhuc/Practice/12. classification/vinbigdata/data/train/0e130f7333967146f0d7bbd94a8ae047.png'"
   ]
  },
  {
   "cell_type": "code",
   "execution_count": 4,
   "metadata": {},
   "outputs": [],
   "source": [
    "# import multiprocessing\n",
    "# multiprocessing.cpu_count()"
   ]
  },
  {
   "cell_type": "code",
   "execution_count": 5,
   "metadata": {},
   "outputs": [
    {
     "name": "stdout",
     "output_type": "stream",
     "text": [
      "...multiprocessing...\n"
     ]
    },
    {
     "name": "stderr",
     "output_type": "stream",
     "text": [
      "100%|██████████| 100/100 [00:00<00:00, 110.72it/s]\n"
     ]
    }
   ],
   "source": [
    "from repos.utils import multiprocess\n",
    "\n",
    "def get_imgs(idc):\n",
    "  row = data.iloc[idc]\n",
    "  img_path = row['image_paths']\n",
    "  id_ = row['image_ids']\n",
    "  img = cv2.imread(img_path)\n",
    "\n",
    "  return img, id_\n",
    "\n",
    "ds = multiprocess(get_imgs, range(0, len(data)), workers=4)"
   ]
  },
  {
   "cell_type": "code",
   "execution_count": 13,
   "metadata": {},
   "outputs": [
    {
     "name": "stdout",
     "output_type": "stream",
     "text": [
      "(1, 1024, 1024, 3)\n"
     ]
    }
   ],
   "source": [
    "img, id_ = get_imgs(0)\n",
    "img = np.array(img[np.newaxis])\n",
    "print(img.shape)\n",
    "unet = load_model(unet_path, compile=False)\n",
    "msk = unet.predict(img)\n",
    "\n"
   ]
  },
  {
   "cell_type": "code",
   "execution_count": 17,
   "metadata": {},
   "outputs": [],
   "source": [
    "from torch.utils.data import Dataset, DataLoader, RandomSampler, SequentialSampler\n",
    "\n",
    "dloader = DataLoader(ds, batch_size=64, num_workers=6)"
   ]
  },
  {
   "cell_type": "code",
   "execution_count": 18,
   "metadata": {},
   "outputs": [
    {
     "name": "stderr",
     "output_type": "stream",
     "text": [
      "100%|██████████| 2/2 [02:46<00:00, 83.49s/it] \n"
     ]
    },
    {
     "name": "stdout",
     "output_type": "stream",
     "text": [
      "(100, 1024, 1024, 3)\n",
      "(100, 1024, 1024, 1)\n",
      "(100,)\n"
     ]
    }
   ],
   "source": [
    "from tqdm import tqdm \n",
    "from repos.utils import get_progress\n",
    "\n",
    "unet = load_model(unet_path, compile=False)\n",
    "\n",
    "def predict_msk(dloader):\n",
    "  final_msks = []\n",
    "  final_ids  = []\n",
    "  final_imgs = []\n",
    "\n",
    "  for imgs, ids in tqdm(dloader): \n",
    "    imgs = np.array(imgs)\n",
    "    msks = unet.predict(imgs)\n",
    "    msks = (msks*255).astype(np.uint8)\n",
    "    msks = (msks>127).astype(int)\n",
    "     \n",
    "    final_imgs.append(imgs)\n",
    "    final_msks.append(msks)\n",
    "    final_ids.append(ids)\n",
    "  \n",
    "  final_imgs = np.concatenate(final_imgs)\n",
    "  final_msks = np.concatenate(final_msks)\n",
    "  final_ids  = np.concatenate(final_ids)\n",
    "  \n",
    "  return final_imgs, final_msks, final_ids\n",
    "\n",
    "final_imgs, final_msks, final_ids = predict_msk(dloader)\n",
    "print(final_imgs.shape)\n",
    "print(final_msks.shape)\n",
    "print(final_ids.shape)"
   ]
  },
  {
   "cell_type": "code",
   "execution_count": 20,
   "metadata": {},
   "outputs": [],
   "source": [
    "def pad_image(img, axes, crop_size):\n",
    "    shapes = np.array(img.shape)\n",
    "    axes = np.array(axes)\n",
    "    sizes = np.array(shapes[axes])\n",
    "    diffs = sizes - np.array(crop_size)\n",
    "    for diff, axis in zip(diffs, axes):\n",
    "        left = abs(diff) // 2\n",
    "        right = (left + 1) if diff % 2 != 0 else left\n",
    "        if diff >= 0: \n",
    "          continue\n",
    "        elif diff < 0:\n",
    "          img = np.pad(img, [(left, right) if i == axis else (0, 0) for i in range(len(shapes))])\n",
    "    return img\n",
    "    "
   ]
  },
  {
   "cell_type": "code",
   "execution_count": 26,
   "metadata": {},
   "outputs": [],
   "source": [
    "from scipy import ndimage\n",
    "import skimage\n",
    "from matplotlib.patches import Rectangle\n",
    "from skimage.measure import label\n",
    "import matplotlib.pyplot as plt\n",
    "\n",
    "train_path = '/Users/HPhuc/Practice/12. classification/vinbigdata/output/output_xray/'\n",
    "\n",
    "def Crop_LCP(idc, size, return_path):\n",
    "    # Toạ độ của largest connected component\n",
    "    msk = final_msks[idc]\n",
    "    img = final_imgs[idc]\n",
    "    id_ = final_ids[idc]\n",
    "    slice_y, slice_x = ndimage.find_objects(msk.squeeze(), 1)[0]\n",
    "\n",
    "    x_min = slice_x.start \n",
    "    x_max = slice_x.stop\n",
    "    y_min = slice_y.start\n",
    "    y_max = slice_y.stop\n",
    "\n",
    "    xy = (slice_x.start, slice_y.start)\n",
    "    h, w = slice_y.stop - slice_y.start, slice_x.stop - slice_x.start\n",
    "    nw, nh = int(w/0.875), int(h/0.875)\n",
    "    dw, dh = (nw-w)//2, (nh-h)//2\n",
    "\n",
    "    top   = max(slice_y.start-dh, 0)\n",
    "    left  = max(slice_x.start-dw, 0)\n",
    "    bot   = min(slice_y.stop+dh, 1024)\n",
    "    right = min(slice_x.stop+dw, 1024)\n",
    "\n",
    "    img_crop = img[top : bot, left : right]\n",
    "    \n",
    "    \"\"\" Check whether img size > = 256, if not -> padding\n",
    "    \"\"\"\n",
    "    if np.any(np.array(img_crop.shape[:2]) < size): \n",
    "      img_crop = pad_image(img=img_crop, axes=(0,1), crop_size=[size,size])\n",
    "      print('padding:', img_crop.shape)\n",
    "\n",
    "    assert np.all(np.array(img_crop.shape[:2]) >= size), f'{id_}' + ' crop size' + f'{img_crop.shape[:2]}' ' must be larger than' + f'{size, size}'\n",
    "\n",
    "    if return_path: np.save(f'{train_path}' + id_ + '.png', img_crop)\n",
    "\n",
    "    if idc % 100 == 0:\n",
    "      fig, ax1 = plt.subplots(1, 1, figsize=(12,8))\n",
    "      ax1.imshow(img_crop, cmap=plt.cm.gray)\n",
    "      plt.show()\n",
    "\n",
    "    print(img_crop.shape)\n",
    "\n",
    "    # return img_crop \n"
   ]
  },
  {
   "cell_type": "code",
   "execution_count": 28,
   "metadata": {},
   "outputs": [
    {
     "name": "stdout",
     "output_type": "stream",
     "text": [
      "...multiprocessing...\n"
     ]
    },
    {
     "name": "stderr",
     "output_type": "stream",
     "text": [
      "  0%|          | 0/100 [00:00<?, ?it/s]"
     ]
    },
    {
     "name": "stdout",
     "output_type": "stream",
     "text": [
      "(632, 737, 3)\n",
      "(611, 792, 3)\n",
      "(633, 833, 3)\n",
      "(499, 848, 3)\n",
      "(584, 929, 3)\n",
      "(811, 995, 3)\n",
      "(720, 817, 3)\n",
      "(619, 881, 3)\n",
      "(673, 1009, 3)\n",
      "(589, 820, 3)\n",
      "(677, 946, 3)\n",
      "(762, 921, 3)\n"
     ]
    },
    {
     "name": "stderr",
     "output_type": "stream",
     "text": [
      "  1%|          | 1/100 [00:00<01:15,  1.32it/s]"
     ]
    },
    {
     "name": "stdout",
     "output_type": "stream",
     "text": [
      "(694, 768, 3)\n",
      "(738, 882, 3)\n"
     ]
    },
    {
     "name": "stderr",
     "output_type": "stream",
     "text": [
      " 13%|█▎        | 13/100 [00:00<00:05, 16.82it/s]"
     ]
    },
    {
     "name": "stdout",
     "output_type": "stream",
     "text": [
      "(576, 744, 3)\n",
      "(611, 900, 3)\n",
      "(571, 848, 3)\n",
      "(661, 853, 3)\n",
      "(555, 845, 3)\n"
     ]
    },
    {
     "name": "stderr",
     "output_type": "stream",
     "text": [
      " 17%|█▋        | 17/100 [00:01<00:04, 18.04it/s]"
     ]
    },
    {
     "name": "stdout",
     "output_type": "stream",
     "text": [
      "(513, 833, 3)\n",
      "(538, 816, 3)\n"
     ]
    },
    {
     "name": "stderr",
     "output_type": "stream",
     "text": [
      " 21%|██        | 21/100 [00:01<00:03, 20.72it/s]"
     ]
    },
    {
     "name": "stdout",
     "output_type": "stream",
     "text": [
      "(513, 840, 3)\n",
      "(633, 787, 3)\n",
      "(636, 825, 3)\n"
     ]
    },
    {
     "name": "stderr",
     "output_type": "stream",
     "text": [
      " 24%|██▍       | 24/100 [00:01<00:03, 21.88it/s]"
     ]
    },
    {
     "name": "stdout",
     "output_type": "stream",
     "text": [
      "(649, 929, 3)\n",
      "(630, 898, 3)\n",
      "(630, 832, 3)\n"
     ]
    },
    {
     "name": "stderr",
     "output_type": "stream",
     "text": [
      " 27%|██▋       | 27/100 [00:01<00:03, 21.76it/s]"
     ]
    },
    {
     "name": "stdout",
     "output_type": "stream",
     "text": [
      "(594, 913, 3)\n",
      "(584, 857, 3)\n",
      "(570, 851, 3)\n",
      "(699, 875, 3)\n"
     ]
    },
    {
     "name": "stderr",
     "output_type": "stream",
     "text": [
      " 30%|███       | 30/100 [00:01<00:03, 18.89it/s]"
     ]
    },
    {
     "name": "stdout",
     "output_type": "stream",
     "text": [
      "(725, 844, 3)\n",
      "(594, 910, 3)\n"
     ]
    },
    {
     "name": "stderr",
     "output_type": "stream",
     "text": [
      " 33%|███▎      | 33/100 [00:01<00:03, 20.68it/s]"
     ]
    },
    {
     "name": "stdout",
     "output_type": "stream",
     "text": [
      "(645, 883, 3)\n",
      "(597, 852, 3)\n",
      "(598, 728, 3)\n"
     ]
    },
    {
     "name": "stderr",
     "output_type": "stream",
     "text": [
      " 36%|███▌      | 36/100 [00:02<00:03, 20.84it/s]"
     ]
    },
    {
     "name": "stdout",
     "output_type": "stream",
     "text": [
      "(748, 825, 3)\n",
      "(613, 876, 3)(608, 854, 3)\n",
      "\n"
     ]
    },
    {
     "name": "stderr",
     "output_type": "stream",
     "text": [
      " 39%|███▉      | 39/100 [00:02<00:03, 19.27it/s]"
     ]
    },
    {
     "name": "stdout",
     "output_type": "stream",
     "text": [
      "(706, 851, 3)\n",
      "(613, 842, 3)\n",
      "(528, 931, 3)\n",
      "(662, 834, 3)\n"
     ]
    },
    {
     "name": "stderr",
     "output_type": "stream",
     "text": [
      " 42%|████▏     | 42/100 [00:02<00:03, 17.86it/s]"
     ]
    },
    {
     "name": "stdout",
     "output_type": "stream",
     "text": [
      "(693, 996, 3)\n",
      "(593, 820, 3)\n"
     ]
    },
    {
     "name": "stderr",
     "output_type": "stream",
     "text": [
      " 45%|████▌     | 45/100 [00:02<00:02, 19.75it/s]"
     ]
    },
    {
     "name": "stdout",
     "output_type": "stream",
     "text": [
      "(592, 796, 3)\n",
      "(636, 891, 3)\n",
      "(661, 802, 3)\n",
      "(615, 868, 3)\n"
     ]
    },
    {
     "name": "stderr",
     "output_type": "stream",
     "text": [
      " 48%|████▊     | 48/100 [00:02<00:02, 19.19it/s]"
     ]
    },
    {
     "name": "stdout",
     "output_type": "stream",
     "text": [
      "(589, 864, 3)\n",
      "(725, 842, 3)\n"
     ]
    },
    {
     "name": "stderr",
     "output_type": "stream",
     "text": [
      " 51%|█████     | 51/100 [00:02<00:02, 21.39it/s]"
     ]
    },
    {
     "name": "stdout",
     "output_type": "stream",
     "text": [
      "(652, 893, 3)\n",
      "(615, 850, 3)\n",
      "(626, 896, 3)\n"
     ]
    },
    {
     "name": "stderr",
     "output_type": "stream",
     "text": [
      " 54%|█████▍    | 54/100 [00:02<00:02, 19.58it/s]"
     ]
    },
    {
     "name": "stdout",
     "output_type": "stream",
     "text": [
      "(636, 1007, 3)\n",
      "(614, 916, 3)\n",
      "(701, 883, 3)\n"
     ]
    },
    {
     "name": "stderr",
     "output_type": "stream",
     "text": [
      " 57%|█████▋    | 57/100 [00:03<00:02, 20.52it/s]"
     ]
    },
    {
     "name": "stdout",
     "output_type": "stream",
     "text": [
      "(530, 843, 3)(663, 858, 3)\n",
      "\n",
      "(650, 726, 3)\n"
     ]
    },
    {
     "name": "stderr",
     "output_type": "stream",
     "text": [
      " 60%|██████    | 60/100 [00:03<00:01, 20.69it/s]"
     ]
    },
    {
     "name": "stdout",
     "output_type": "stream",
     "text": [
      "(489, 650, 3)\n",
      "(679, 885, 3)\n",
      "(628, 937, 3)\n"
     ]
    },
    {
     "name": "stderr",
     "output_type": "stream",
     "text": [
      " 63%|██████▎   | 63/100 [00:03<00:01, 21.38it/s]"
     ]
    },
    {
     "name": "stdout",
     "output_type": "stream",
     "text": [
      "(545, 854, 3)\n",
      "(706, 844, 3)\n",
      "(741, 884, 3)\n"
     ]
    },
    {
     "name": "stderr",
     "output_type": "stream",
     "text": [
      " 66%|██████▌   | 66/100 [00:03<00:01, 20.87it/s]"
     ]
    },
    {
     "name": "stdout",
     "output_type": "stream",
     "text": [
      "(673, 872, 3)\n",
      "(572, 842, 3)\n",
      "(680, 786, 3)\n"
     ]
    },
    {
     "name": "stderr",
     "output_type": "stream",
     "text": [
      " 69%|██████▉   | 69/100 [00:03<00:01, 22.23it/s]"
     ]
    },
    {
     "name": "stdout",
     "output_type": "stream",
     "text": [
      "(625, 826, 3)\n",
      "(498, 824, 3)\n",
      "(679, 856, 3)\n"
     ]
    },
    {
     "name": "stderr",
     "output_type": "stream",
     "text": [
      " 72%|███████▏  | 72/100 [00:03<00:01, 21.65it/s]"
     ]
    },
    {
     "name": "stdout",
     "output_type": "stream",
     "text": [
      "(689, 841, 3)\n",
      "(666, 864, 3)\n",
      "(617, 780, 3)\n",
      "(610, 935, 3)\n"
     ]
    },
    {
     "name": "stderr",
     "output_type": "stream",
     "text": [
      " 75%|███████▌  | 75/100 [00:03<00:01, 19.66it/s]"
     ]
    },
    {
     "name": "stdout",
     "output_type": "stream",
     "text": [
      "(473, 833, 3)\n",
      "(659, 985, 3)\n",
      "(516, 791, 3)\n",
      "(587, 838, 3)\n"
     ]
    },
    {
     "name": "stderr",
     "output_type": "stream",
     "text": [
      " 79%|███████▉  | 79/100 [00:04<00:00, 21.00it/s]"
     ]
    },
    {
     "name": "stdout",
     "output_type": "stream",
     "text": [
      "(597, 873, 3)\n",
      "(742, 856, 3)\n"
     ]
    },
    {
     "name": "stderr",
     "output_type": "stream",
     "text": [
      " 82%|████████▏ | 82/100 [00:04<00:00, 21.64it/s]"
     ]
    },
    {
     "name": "stdout",
     "output_type": "stream",
     "text": [
      "(603, 832, 3)\n",
      "(565, 834, 3)\n",
      "(576, 764, 3)\n",
      "(613, 905, 3)\n",
      "(714, 940, 3)\n",
      "(630, 822, 3)\n"
     ]
    },
    {
     "name": "stderr",
     "output_type": "stream",
     "text": [
      " 85%|████████▌ | 85/100 [00:04<00:00, 19.38it/s]"
     ]
    },
    {
     "name": "stdout",
     "output_type": "stream",
     "text": [
      "(441, 868, 3)\n",
      "(579, 908, 3)\n",
      "(644, 928, 3)\n",
      "(646, 971, 3)\n"
     ]
    },
    {
     "name": "stderr",
     "output_type": "stream",
     "text": [
      " 89%|████████▉ | 89/100 [00:04<00:00, 20.23it/s]"
     ]
    },
    {
     "name": "stdout",
     "output_type": "stream",
     "text": [
      "(647, 869, 3)\n",
      "(565, 872, 3)\n",
      "(608, 867, 3)\n"
     ]
    },
    {
     "name": "stderr",
     "output_type": "stream",
     "text": [
      " 93%|█████████▎| 93/100 [00:04<00:00, 21.68it/s]"
     ]
    },
    {
     "name": "stdout",
     "output_type": "stream",
     "text": [
      "(636, 981, 3)\n",
      "(634, 876, 3)\n",
      "(614, 774, 3)\n",
      "(678, 773, 3)"
     ]
    },
    {
     "name": "stderr",
     "output_type": "stream",
     "text": [
      " 97%|█████████▋| 97/100 [00:04<00:00, 22.34it/s]"
     ]
    },
    {
     "name": "stdout",
     "output_type": "stream",
     "text": [
      "\n",
      "(690, 873, 3)\n"
     ]
    },
    {
     "name": "stderr",
     "output_type": "stream",
     "text": [
      "100%|██████████| 100/100 [00:05<00:00, 19.97it/s]\n"
     ]
    }
   ],
   "source": [
    "crop_lung = multiprocess(Crop_LCP, range(len(data)), size=256, return_path=True)\n"
   ]
  },
  {
   "cell_type": "code",
   "execution_count": 29,
   "metadata": {},
   "outputs": [
    {
     "data": {
      "text/plain": [
       "100"
      ]
     },
     "execution_count": 29,
     "metadata": {},
     "output_type": "execute_result"
    }
   ],
   "source": [
    "import os \n",
    "\n",
    "len(os.listdir(train_path))"
   ]
  },
  {
   "cell_type": "code",
   "execution_count": null,
   "metadata": {},
   "outputs": [],
   "source": []
  }
 ],
 "metadata": {
  "interpreter": {
   "hash": "16fd0be27b59a639c645e56c43a95ce42e074baabdf12dcb6efea33a336ac199"
  },
  "kernelspec": {
   "display_name": "Python 3.7.12 ('env1')",
   "language": "python",
   "name": "python3"
  },
  "language_info": {
   "codemirror_mode": {
    "name": "ipython",
    "version": 3
   },
   "file_extension": ".py",
   "mimetype": "text/x-python",
   "name": "python",
   "nbconvert_exporter": "python",
   "pygments_lexer": "ipython3",
   "version": "3.7.12"
  },
  "orig_nbformat": 4
 },
 "nbformat": 4,
 "nbformat_minor": 2
}
