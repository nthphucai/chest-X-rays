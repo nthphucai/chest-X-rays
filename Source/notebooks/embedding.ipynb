{
 "cells": [
  {
   "cell_type": "code",
   "execution_count": 2,
   "metadata": {},
   "outputs": [],
   "source": [
    "import pandas as pd \n",
    "import numpy as np\n",
    "import os \n",
    "import sys"
   ]
  },
  {
   "cell_type": "code",
   "execution_count": 3,
   "metadata": {},
   "outputs": [
    {
     "data": {
      "text/plain": [
       "array(['Aortic enlargement', 'Atelectasis', 'Calcification',\n",
       "       'Cardiomegaly', 'Consolidation', 'ILD', 'Infiltration',\n",
       "       'Lung Opacity', 'Nodule Mass', 'Other lesion', 'Pleural effusion',\n",
       "       'Pleural thickening', 'Pneumothorax', 'Pulmonary fibrosis'],\n",
       "      dtype='<U18')"
      ]
     },
     "execution_count": 3,
     "metadata": {},
     "output_type": "execute_result"
    }
   ],
   "source": [
    "classes = np.load('/Users/HPhuc/Practice/12. classification/vinbigdata/output/columns_14.npy')\n",
    "classes "
   ]
  },
  {
   "cell_type": "code",
   "execution_count": 5,
   "metadata": {},
   "outputs": [],
   "source": [
    "import torchtext.vocab as vocab\n",
    "embedding = vocab.GloVe(name='6B')"
   ]
  },
  {
   "cell_type": "code",
   "execution_count": 7,
   "metadata": {},
   "outputs": [
    {
     "name": "stdout",
     "output_type": "stream",
     "text": [
      "Aortic enlargement : [tensor(121.8791), tensor(101.9114)]\n",
      "Atelectasis : [tensor(84.1079)]\n",
      "Calcification : [tensor(90.7722)]\n",
      "Cardiomegaly : [tensor(0.)]\n",
      "Consolidation : [tensor(81.4628)]\n",
      "ILD : [tensor(90.7017)]\n",
      "Infiltration : [tensor(94.0361)]\n",
      "Lung Opacity : [tensor(104.6459), tensor(80.2757)]\n",
      "Nodule Mass : [tensor(97.4789), tensor(91.6649)]\n",
      "Other lesion : [tensor(66.4487), tensor(91.0003)]\n",
      "Pleural effusion : [tensor(113.9009), tensor(95.0730)]\n",
      "Pleural thickening : [tensor(113.9009), tensor(91.3722)]\n",
      "Pneumothorax : [tensor(102.7047)]\n",
      "Pulmonary fibrosis : [tensor(108.6708), tensor(98.1578)]\n"
     ]
    },
    {
     "data": {
      "text/plain": [
       "(14, 300)"
      ]
     },
     "execution_count": 7,
     "metadata": {},
     "output_type": "execute_result"
    }
   ],
   "source": [
    "vec_ls = []\n",
    "\n",
    "for c in classes:\n",
    "  vec = embedding.get_vecs_by_tokens(c.split(\" \"), lower_case_backup=True)\n",
    "  print(c, ':', [v.abs().sum() for v in vec])\n",
    "  aggre = vec.mean(dim=0)\n",
    "  vec_ls.append(aggre)\n",
    "\n",
    "vecs = np.stack(vec_ls, axis=0)\n",
    "vecs.shape"
   ]
  },
  {
   "cell_type": "code",
   "execution_count": 8,
   "metadata": {},
   "outputs": [],
   "source": [
    "import parameter as para \n",
    "from pathlib import Path\n",
    "import os \n",
    "\n",
    "np.save(Path(f'{para.output_path}' + '/embeddings_14'), vecs)"
   ]
  },
  {
   "cell_type": "code",
   "execution_count": null,
   "metadata": {},
   "outputs": [],
   "source": []
  }
 ],
 "metadata": {
  "interpreter": {
   "hash": "16fd0be27b59a639c645e56c43a95ce42e074baabdf12dcb6efea33a336ac199"
  },
  "kernelspec": {
   "display_name": "Python 3.7.12 ('env1')",
   "language": "python",
   "name": "python3"
  },
  "language_info": {
   "codemirror_mode": {
    "name": "ipython",
    "version": 3
   },
   "file_extension": ".py",
   "mimetype": "text/x-python",
   "name": "python",
   "nbconvert_exporter": "python",
   "pygments_lexer": "ipython3",
   "version": "3.7.13"
  },
  "orig_nbformat": 4
 },
 "nbformat": 4,
 "nbformat_minor": 2
}
